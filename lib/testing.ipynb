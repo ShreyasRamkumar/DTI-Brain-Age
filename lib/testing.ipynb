{
 "cells": [
  {
   "cell_type": "code",
   "metadata": {
    "ExecuteTime": {
     "end_time": "2024-09-30T18:45:29.864503Z",
     "start_time": "2024-09-30T18:44:16.241090Z"
    }
   },
   "source": [
    "import os\n",
    "import csv\n",
    "\n",
    "file = \"C:\\Code\\GPN\\DTI-Brain-Age\\data\\participant_data.csv\"\n",
    "paths = []\n",
    "ages = {}\n",
    "scans = os.listdir(\"C:\\Code\\GPN\\DTI-Brain-Age\\data\\CamCAN\")\n",
    "scan_counter = 0\n",
    "with open(file, \"r\") as f:  \n",
    "    for i, row in enumerate(f):\n",
    "        elements = row.split(\",\")\n",
    "        scan_id = elements[0]\n",
    "        scan = scans[scan_counter]\n",
    "        if scan_id in scan:\n",
    "            paths.append(scan_id)\n",
    "            ages[scan_id] = elements[1]\n",
    "            scan_counter += 1\n",
    "    \n",
    "    print(len(ages))\n",
    "    print(len(paths))"
   ],
   "outputs": [
    {
     "name": "stderr",
     "output_type": "stream",
     "text": [
      "<>:4: SyntaxWarning: invalid escape sequence '\\C'\n",
      "<>:7: SyntaxWarning: invalid escape sequence '\\C'\n",
      "<>:4: SyntaxWarning: invalid escape sequence '\\C'\n",
      "<>:7: SyntaxWarning: invalid escape sequence '\\C'\n",
      "C:\\Users\\shrey\\AppData\\Local\\Temp\\ipykernel_1996\\2081876529.py:4: SyntaxWarning: invalid escape sequence '\\C'\n",
      "  file = \"C:\\Code\\GPN\\DTI-Brain-Age\\data\\participant_data.csv\"\n",
      "C:\\Users\\shrey\\AppData\\Local\\Temp\\ipykernel_1996\\2081876529.py:7: SyntaxWarning: invalid escape sequence '\\C'\n",
      "  scans = os.listdir(\"C:\\Code\\GPN\\DTI-Brain-Age\\data\\CamCAN\")\n"
     ]
    },
    {
     "name": "stdout",
     "output_type": "stream",
     "text": [
      "626\n",
      "626\n"
     ]
    }
   ],
   "execution_count": 13
  }
 ],
 "metadata": {
  "kernelspec": {
   "display_name": "Python 3",
   "language": "python",
   "name": "python3"
  },
  "language_info": {
   "codemirror_mode": {
    "name": "ipython",
    "version": 3
   },
   "file_extension": ".py",
   "mimetype": "text/x-python",
   "name": "python",
   "nbconvert_exporter": "python",
   "pygments_lexer": "ipython3",
   "version": "3.12.0"
  }
 },
 "nbformat": 4,
 "nbformat_minor": 2
}
